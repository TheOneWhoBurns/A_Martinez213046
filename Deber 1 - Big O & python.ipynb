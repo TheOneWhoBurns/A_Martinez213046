{
 "cells": [
  {
   "cell_type": "markdown",
   "id": "f34ac71e-fab5-4b28-a78d-eb92a179e98a",
   "metadata": {},
   "source": [
    "# Homework 1\n"
   ]
  },
  {
   "cell_type": "markdown",
   "id": "dc052222-38e7-4e4f-91b5-35e6a6bbcaaf",
   "metadata": {},
   "source": [
    "##  1. Sort the following functions in decreasing order of asymptotic complexity ($O(f(n))$):\n",
    "\n",
    "- $f_1(n) = n^\\sqrt{n}$\n",
    "- $f_2(n) = 2^n$\n",
    "- $f_3(n) = {n\\choose 2}$\n",
    "- $f_4(n) = \\sum_{i=2}^n (i-1)$"
   ]
  },
  {
   "cell_type": "markdown",
   "id": "9c45f212-720e-4d7f-887a-329bdb8c649d",
   "metadata": {},
   "source": [
    "- $f_1(n) = n^\\sqrt{n}$\n",
    "- $f_2(n) = 2^n$\n",
    "- $f_3(n) = {n\\choose 2}$\n",
    "- $f_4(n) = \\sum_{i=2}^n (i-1)$"
   ]
  },
  {
   "cell_type": "markdown",
   "id": "72cf744c-76c0-41e5-9969-b04335468a63",
   "metadata": {},
   "source": [
    "## 2. Implement in Python the insertion sort procedure to sort into non-increasing instead of non-decreasing order \n",
    "\n",
    "1. Use the `time` function to measure the execution time for the best and worst inputs of size between 10 and 1,000 (use steps of 10)\n",
    "2. Plot the best and worst execution times measured in (2.1) as a function of $n$\n",
    "3. Use the `random` function to generate randomly sorted inputs to calculate the execution time. For each $n$ run the program for 100 different inputs. Do for $n = 100,200, \\dots, 1000$.\n",
    "4. Plot the mean, median, and standard deviation as a function of $n$ for the values obtained in 2.3\n"
   ]
  },
  {
   "cell_type": "markdown",
   "id": "1d4e68a4-5338-4cc7-a933-afc345c954bb",
   "metadata": {},
   "source": [
    "in case in the future you check this, i did did it, but then i closed Jupyter and forgot to save it\n"
   ]
  },
  {
   "cell_type": "markdown",
   "id": "87bb5ac5-8522-4b9b-964f-21684d439a35",
   "metadata": {},
   "source": [
    "## 3.  CLRS 2.1-4\n",
    "pg. 22"
   ]
  },
  {
   "cell_type": "markdown",
   "id": "350b189d-405a-45f7-9bbf-a8b9bbce381d",
   "metadata": {},
   "source": [
    "## 5. CLRS 3.1-2\n",
    "pg. 52"
   ]
  },
  {
   "cell_type": "markdown",
   "id": "ef7d6997-c6d2-4203-994f-897c0324c565",
   "metadata": {},
   "source": [
    "Let $f(n)$ and $g(n)$ be asymptotically nonnegative functions. Using the basic definition of $\\Theta$ - notation, prove that $\\max (f(n),g(n)) = \\Theta(f(n) + g(n))$"
   ]
  },
  {
   "cell_type": "markdown",
   "id": "c56db523-1c48-4009-bdf1-70ec90007ba4",
   "metadata": {},
   "source": [
    "$$ \\Theta(f(n)+g(n)) = \\{ h(n) :  \\exists c_1, c_2, n_0 > 0, \\text{such that } 0 \\leq c_1(f(n)+g(n)) \\leq h(n) \\leq c_2(f(n)+g(n)), \\forall n \\geq n_0 \\}$$\n",
    "$$ h(n) = \\max(f(n),g(n)) $$"
   ]
  },
  {
   "cell_type": "markdown",
   "id": "f4cd197b-0e11-4050-92bd-6dbaf868c0b1",
   "metadata": {},
   "source": [
    "Como suponemos que el maximo es igual al $big\\, O$ entonces la definicion es asi $$0 \\leq c_1(f(n)+g(n)) \\leq h(n) = c_2(f(n)+g(n))$$"
   ]
  },
  {
   "cell_type": "markdown",
   "id": "dee87011-4cce-4125-bf64-9a4213fe04ff",
   "metadata": {},
   "source": [
    "For asymptotically nonnegative functions $f(n)$ and $g(n)$, we know that\n",
    "\n",
    "$$ \\begin{aligned} \\exists n_1, n_2: & f(n) \\ge 0 & \\text{for} , n > n_1 \\\\ & g(n) \\ge 0 & \\text{for} , n > n_2. \\end{aligned} $$\n",
    "\n",
    "Let $n_0 = \\max(n_1, n_2)$ and we know the equations below would be true for $n > n_0$:\n",
    "\n",
    "$$ \\begin{aligned} f(n) & \\le \\max(f(n), g(n)) \\\\ g(n) & \\le \\max(f(n), g(n)) \\\\ (f(n) + g(n))/2 & \\le \\max(f(n), g(n)) \\\\ \\max(f(n), g(n)) & \\le (f(n) + g(n)). \\end{aligned} $$\n",
    "\n",
    "Then we can combine last two inequalities:\n",
    "\n",
    "$$0 \\le \\frac{f(n) + g(n)}{2} \\le \\max{(f(n), g(n))} \\le f(n) + g(n).$$\n",
    "\n",
    "Which is the definition of $\\Theta{(f(n) + g(n))}$ with $c_1 = \\frac{1}{2}$ and $c_2 = 1$"
   ]
  },
  {
   "cell_type": "markdown",
   "id": "e6f49862-a69c-4685-bde0-1e25f16bea34",
   "metadata": {},
   "source": [
    "## 6. CLRS 3.1-6\n",
    "\n",
    "Prove that the running time of an algorithm is $\\Theta(g(n))$ if and only if its worst-case running time is $Og(n)$ and its best-case running time is $\\Omega(g(n))$"
   ]
  },
  {
   "cell_type": "markdown",
   "id": "676676a4-b5a9-40af-9aba-698669f5b700",
   "metadata": {},
   "source": [
    "the Theorem 3.1 proves this in the next way\n",
    "\n"
   ]
  },
  {
   "cell_type": "code",
   "execution_count": null,
   "id": "2a291c06-8d8c-4fa2-883f-decaf3f55d94",
   "metadata": {},
   "outputs": [],
   "source": []
  }
 ],
 "metadata": {
  "kernelspec": {
   "display_name": "Python 3",
   "language": "python",
   "name": "python3"
  },
  "language_info": {
   "codemirror_mode": {
    "name": "ipython",
    "version": 3
   },
   "file_extension": ".py",
   "mimetype": "text/x-python",
   "name": "python",
   "nbconvert_exporter": "python",
   "pygments_lexer": "ipython3",
   "version": "3.8.8"
  }
 },
 "nbformat": 4,
 "nbformat_minor": 5
}
