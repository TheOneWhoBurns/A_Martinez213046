{
 "cells": [
  {
   "cell_type": "code",
   "execution_count": 1,
   "id": "37ff89c6-fd75-4f2b-96f8-1f8513dbbdb8",
   "metadata": {},
   "outputs": [],
   "source": [
    "def swap(node_head):\n",
    "    # Base\n",
    "    # In head is non or we dont have a node to swap with\n",
    "    if not head_node or not head_node.next_node:\n",
    "        return\n",
    "    \n",
    "    # Reducir el scope\n",
    "    # Nodes se cambian de puestos\n",
    "    first = node_head\n",
    "    second = head_node.next_node\n",
    "    \n",
    "    # Call the function que reduce el scope de recursion\n",
    "    \n",
    "    first.next_node = self.swap(second.next_node)\n",
    "    second.next_node = first\n",
    "    \n",
    "    # Return\n",
    "    return second\n"
   ]
  },
  {
   "cell_type": "code",
   "execution_count": 3,
   "id": "1fcfbc0c-3620-4055-b310-88a9100644a8",
   "metadata": {},
   "outputs": [],
   "source": [
    "def fib(n):\n",
    "    if n == 0 or n == 1:\n",
    "        return\n",
    "    else:\n",
    "        return fib(n-1) + fib(n-2)"
   ]
  },
  {
   "cell_type": "code",
   "execution_count": null,
   "id": "6f32269a-8be2-4bc8-81cb-40714686cf4d",
   "metadata": {},
   "outputs": [],
   "source": []
  }
 ],
 "metadata": {
  "kernelspec": {
   "display_name": "Python 3",
   "language": "python",
   "name": "python3"
  },
  "language_info": {
   "codemirror_mode": {
    "name": "ipython",
    "version": 3
   },
   "file_extension": ".py",
   "mimetype": "text/x-python",
   "name": "python",
   "nbconvert_exporter": "python",
   "pygments_lexer": "ipython3",
   "version": "3.8.8"
  }
 },
 "nbformat": 4,
 "nbformat_minor": 5
}
