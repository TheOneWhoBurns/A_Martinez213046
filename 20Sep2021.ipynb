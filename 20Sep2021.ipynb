{
 "cells": [
  {
   "cell_type": "markdown",
   "id": "c76fd42b-afe6-4ba6-8591-eb24d4835504",
   "metadata": {},
   "source": [
    "# implement enqueue priority list"
   ]
  },
  {
   "cell_type": "code",
   "execution_count": 1,
   "id": "0ae1de68-92b5-45a8-8235-d2ec3b325a81",
   "metadata": {},
   "outputs": [],
   "source": [
    "# We can use the same implementation we used for Arrays\n",
    "import ctypes\n",
    "class PriorityQueue(object):\n",
    "    \"\"\"\n",
    "    Implementation of the queue data structure\n",
    "    \"\"\"\n",
    "\n",
    "    def __init__(self, n):\n",
    "        self.item_count = 0\n",
    "        self.n = n\n",
    "        self.queue = self._create_queue(self.n)        \n",
    "    \n",
    "    def _create_queue(self, n):\n",
    "        \"\"\"\n",
    "        Creates a new stack of capacity n\n",
    "        \"\"\"\n",
    "        return (n * ctypes.py_object)()\n",
    "    \n",
    "    def enqueue(self, item):\n",
    "        \"\"\"\n",
    "        Add new item to the queue\n",
    "        \"\"\"\n",
    "        \n",
    "        \n",
    "        if self.item_count == self.n:\n",
    "            raise ValueError(\"no more capacity\")\n",
    "        \n",
    "        for i in range(1, self.item_count):\n",
    "            \n",
    "            k = item[0]\n",
    "        \n",
    "            j = self.item_count - 1\n",
    "            while j>=0 and \n",
    "        \n",
    "        \n",
    "        \n",
    "        \n",
    "        self.item_count += 1\n",
    "        \n",
    "        "
   ]
  },
  {
   "cell_type": "code",
   "execution_count": 2,
   "id": "1b1d6428-c95c-4ec2-9198-52fc1ee60b87",
   "metadata": {},
   "outputs": [],
   "source": [
    "def insertionSort(arr):\n",
    "  \n",
    "    # Traverse through 1 to len(arr)\n",
    "    for i in range(1, len(arr)):\n",
    "  \n",
    "        key = arr[i]\n",
    "  \n",
    "        # Move elements of arr[0..i-1], that are\n",
    "        # greater than key, to one position ahead\n",
    "        # of their current position\n",
    "        j = i-1\n",
    "        while j >=0 and key < arr[j] :\n",
    "                arr[j+1] = arr[j]\n",
    "                j -= 1\n",
    "        arr[j+1] = key\n",
    "  "
   ]
  },
  {
   "cell_type": "code",
   "execution_count": null,
   "id": "c5502da1-5512-4261-a5a1-146d56040fb1",
   "metadata": {},
   "outputs": [],
   "source": []
  }
 ],
 "metadata": {
  "kernelspec": {
   "display_name": "Python 3",
   "language": "python",
   "name": "python3"
  },
  "language_info": {
   "codemirror_mode": {
    "name": "ipython",
    "version": 3
   },
   "file_extension": ".py",
   "mimetype": "text/x-python",
   "name": "python",
   "nbconvert_exporter": "python",
   "pygments_lexer": "ipython3",
   "version": "3.8.8"
  }
 },
 "nbformat": 4,
 "nbformat_minor": 5
}
