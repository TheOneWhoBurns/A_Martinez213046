{
 "cells": [
  {
   "cell_type": "markdown",
   "id": "d2751cc2-211a-412f-8c5a-6983750e893c",
   "metadata": {},
   "source": [
    "### PUNTOS EXTRA"
   ]
  },
  {
   "cell_type": "markdown",
   "id": "94de6d68-949e-4a40-9dbc-00580320395f",
   "metadata": {},
   "source": [
    "### How does sizing of list work in Python? \n"
   ]
  },
  {
   "cell_type": "markdown",
   "id": "187487c6-9dc4-4e34-8ce6-52728437c229",
   "metadata": {},
   "source": [
    "python lists have a dynamic size, and they reserve space in memory after the last item in the list, this means that methods like .append() does its work \"in place\", meaning without other underlitying data structure"
   ]
  },
  {
   "cell_type": "markdown",
   "id": "5a00e9de-2765-48e9-a984-7bea0e83a977",
   "metadata": {},
   "source": [
    "[.append() on a list](https://imgur.com/a/gVQpzkh)"
   ]
  },
  {
   "cell_type": "markdown",
   "id": "73d6bd46-d991-4721-a1cd-c387c3098a69",
   "metadata": {},
   "source": [
    "methods like .append() (that change the size of a list) return None, this is becuase a list in puthon is a mutable sequence type "
   ]
  },
  {
   "cell_type": "markdown",
   "id": "67e61f8b-7a19-41c1-b130-2fe4d9e2ab59",
   "metadata": {},
   "source": [
    "### Implementation of Insert"
   ]
  },
  {
   "cell_type": "code",
   "execution_count": 8,
   "id": "9734e287-ae87-4813-9bbb-6d520a1cb972",
   "metadata": {},
   "outputs": [],
   "source": [
    "import time\n",
    "import pandas as pd\n",
    "import numpy as np\n",
    "import matplotlib.pyplot as plt\n",
    "%matplotlib inline  \n"
   ]
  },
  {
   "cell_type": "code",
   "execution_count": 14,
   "id": "1fe1fcac-f461-4df0-bb04-af3bf14b5893",
   "metadata": {},
   "outputs": [],
   "source": [
    "import ctypes\n",
    "\n",
    "class Array(object):\n",
    "    \"\"\"\n",
    "    Implementation of the array data structure\n",
    "    \"\"\"\n",
    "\n",
    "    def __init__(self, n, values=None):\n",
    "        self.item_count = 0\n",
    "        self.n = n\n",
    "        self.array = self._create_array(self.n)\n",
    "        if values:\n",
    "            self.initialize_array(values)  \n",
    "            \n",
    "    def _create_array(self, n):\n",
    "        \"\"\"\n",
    "        Creates a new array of capacity n\n",
    "        \"\"\"\n",
    "        return (n * ctypes.py_object)()\n",
    "                \n",
    "        \n",
    "    def __getitem__(self, item_index):\n",
    "        \"\"\"\n",
    "        Return element at item_index\n",
    "        \"\"\"\n",
    "        if (item_index < 0) or (item_index >= self.n):\n",
    "            raise IndexError('index out of range!')\n",
    "        try:\n",
    "            x = self.array[item_index]\n",
    "        except ValueError:\n",
    "            x = None\n",
    "        return x\n",
    "    \n",
    "    def __setitem__(self, item_index, item):\n",
    "        \"\"\"\n",
    "        Set element at item_index\n",
    "        \"\"\"\n",
    "        if (item_index < 0) or (item_index >= self.n):\n",
    "            raise IndexError('index out of range!')\n",
    "        if not self[item_index]:\n",
    "            self.item_count += 1\n",
    "        self.array[item_index] = item\n",
    "    \n",
    "    def initialize_array(self, values):\n",
    "        \"\"\"\n",
    "        Initialize array\n",
    "        \"\"\"\n",
    "        if self.n != len(values):\n",
    "            raise ValueError(\"element count different than capacity\")\n",
    "        for item in values:\n",
    "            self.array[self.item_count] = item\n",
    "            self.item_count += 1\n",
    "            \n",
    "    def list_array(self):\n",
    "        \"\"\"\n",
    "        List elements of the array\n",
    "        \"\"\"\n",
    "        return \", \".join(str(x) if x is not None else '_' for x in self)\n",
    "    \n",
    "    def _append(self, item):\n",
    "        \"\"\"\n",
    "        Add new item to the beginning of the array\n",
    "        \"\"\"\n",
    "        if self.item_count == self.n:\n",
    "            raise ValueError(\"no more capacity\")\n",
    "            \n",
    "        i = self.item_count\n",
    "        while (i > 0):\n",
    "            self.array[i] = self.array[i-1]\n",
    "            i -= 1\n",
    "        self.array[0] = item\n",
    "        self.item_count += 1"
   ]
  },
  {
   "cell_type": "markdown",
   "id": "11299795-9b7f-4d63-9802-7eb18ee1448d",
   "metadata": {},
   "source": [
    "Implementation at the end "
   ]
  },
  {
   "cell_type": "code",
   "execution_count": 27,
   "id": "549e3c6d-b21a-4951-b1a5-e5d73d12cddf",
   "metadata": {},
   "outputs": [],
   "source": [
    "def insert_e(array, item):\n",
    "    \"\"\"\n",
    "    Add new item to the tail of the array\n",
    "    \"\"\"\n",
    "    array.array[array.item_count] = item\n",
    "    array.item_count += 1"
   ]
  },
  {
   "cell_type": "markdown",
   "id": "efedaaaf-e942-46bb-ae08-b69ba14d6c83",
   "metadata": {},
   "source": [
    "Implementation at the begining"
   ]
  },
  {
   "cell_type": "code",
   "execution_count": 28,
   "id": "c6a315af-036e-4257-bce2-6038842a044b",
   "metadata": {},
   "outputs": [],
   "source": [
    "def insert_b(array, item):\n",
    "    \"\"\"\n",
    "    Add new item to the beginning of the array\n",
    "    \"\"\"\n",
    "    if array.item_count == array.n:\n",
    "        raise ValueError(\"no more capacity\")\n",
    "\n",
    "    i = array.item_count\n",
    "    while (i > 0):\n",
    "        array.array[i] = array.array[i-1]\n",
    "        i -= 1\n",
    "    array.array[0] = item\n",
    "    array.item_count += 1"
   ]
  },
  {
   "cell_type": "markdown",
   "id": "6c223192-8336-4a3c-a45b-64afec52b222",
   "metadata": {},
   "source": [
    "Implementation at a specific index"
   ]
  },
  {
   "cell_type": "code",
   "execution_count": 145,
   "id": "f4299aba-b7ea-430c-a4bf-003b3f326c08",
   "metadata": {},
   "outputs": [],
   "source": [
    "def insert(array, item, index):\n",
    "    \"\"\"\n",
    "    Add new item to a specific index of the array\n",
    "    \"\"\"\n",
    "    if array.item_count == array.n:\n",
    "        raise ValueError(\"no more capacity\")\n",
    "        \n",
    "    if index == array.n - 1:\n",
    "        insert_e(array,item)\n",
    "    elif index == 0:\n",
    "        insert_b(array,item)\n",
    "        \n",
    "    else: \n",
    "        i = array.item_count\n",
    "        while (i >= index):\n",
    "            array.array[i] = array.array[i-1]\n",
    "            i -= 1\n",
    "        array.array[index] = item\n",
    "        array.item_count += 1"
   ]
  },
  {
   "cell_type": "code",
   "execution_count": 126,
   "id": "55eb4daf-6e9e-4d97-8ddc-f00d98328888",
   "metadata": {},
   "outputs": [
    {
     "data": {
      "text/plain": [
       "'_, _, 5, _'"
      ]
     },
     "execution_count": 126,
     "metadata": {},
     "output_type": "execute_result"
    }
   ],
   "source": [
    "A = Array(4)\n",
    "insert(A,5,2)\n",
    "A.list_array()"
   ]
  },
  {
   "cell_type": "markdown",
   "id": "942e58a0-8bd7-4b90-ac8d-036c867cd08c",
   "metadata": {},
   "source": [
    "### Implementation of Delete general process"
   ]
  },
  {
   "cell_type": "code",
   "execution_count": 76,
   "id": "de0bcb91-df67-4b9a-bddd-175ded48dd96",
   "metadata": {},
   "outputs": [],
   "source": [
    "def delete_end(array):\n",
    "    \"\"\"\n",
    "    Delete an item at the end of the array\n",
    "    \"\"\"\n",
    "    array[array.n - 1] = None\n",
    "    array.item_count -= 1"
   ]
  },
  {
   "cell_type": "code",
   "execution_count": 194,
   "id": "1acb39d8-1634-4b6c-ae84-7b5030b88f92",
   "metadata": {},
   "outputs": [],
   "source": [
    "def delete_begin(array):\n",
    "    \"\"\"\n",
    "    Delete an item at the begining of the array\n",
    "    \"\"\"\n",
    "    i = 0\n",
    "    while(i < array.item_count):\n",
    "        array.array[i] = array.array[i+1]\n",
    "        i += 1\n",
    "    array.item_count =- 1"
   ]
  },
  {
   "cell_type": "code",
   "execution_count": 206,
   "id": "2db6fc91-c7c5-479e-a71b-54adb3fa3366",
   "metadata": {},
   "outputs": [],
   "source": [
    "def delete(array, index):\n",
    "    \"\"\"\n",
    "    Delete an item at a specific index of the array\n",
    "    \"\"\"\n",
    "    \n",
    "    if index == array.n-1:\n",
    "        delete_end(array)\n",
    "        \n",
    "    elif index == 0:\n",
    "        delete_begin(array)\n",
    "        \n",
    "    else:\n",
    "        i = index\n",
    "        while (i < array.n-1):\n",
    "            array.array[i] = array.array[i+1]\n",
    "            i += 1\n",
    "        array.item_count -= 1"
   ]
  },
  {
   "cell_type": "code",
   "execution_count": 207,
   "id": "b0810631-9138-4e7a-8481-5dce0340be1e",
   "metadata": {},
   "outputs": [
    {
     "data": {
      "text/plain": [
       "'1, 2, 4, 3'"
      ]
     },
     "execution_count": 207,
     "metadata": {},
     "output_type": "execute_result"
    }
   ],
   "source": [
    "B = Array(4)\n",
    "insert(B,1,0)\n",
    "insert(B,2,1)\n",
    "insert(B,3,3)\n",
    "insert(B,4,2)\n",
    "\n",
    "B.list_array()"
   ]
  },
  {
   "cell_type": "code",
   "execution_count": 208,
   "id": "e0dd156e-dcf5-4254-af87-f998a7596b03",
   "metadata": {},
   "outputs": [
    {
     "data": {
      "text/plain": [
       "'1, 2, 4, _'"
      ]
     },
     "execution_count": 208,
     "metadata": {},
     "output_type": "execute_result"
    }
   ],
   "source": [
    "delete_end(B)\n",
    "B.list_array()"
   ]
  },
  {
   "cell_type": "code",
   "execution_count": 209,
   "id": "1a52f477-eaa8-48df-8543-82d0f3298f1d",
   "metadata": {},
   "outputs": [
    {
     "data": {
      "text/plain": [
       "'2, 4, _, _'"
      ]
     },
     "execution_count": 209,
     "metadata": {},
     "output_type": "execute_result"
    }
   ],
   "source": [
    "delete_begin(B)\n",
    "B.list_array()"
   ]
  },
  {
   "cell_type": "code",
   "execution_count": 210,
   "id": "90cc056e-390a-45b6-a944-ccdd53201b12",
   "metadata": {},
   "outputs": [
    {
     "data": {
      "text/plain": [
       "'2, _, _, _'"
      ]
     },
     "execution_count": 210,
     "metadata": {},
     "output_type": "execute_result"
    }
   ],
   "source": [
    "delete(B,1)\n",
    "B.list_array()"
   ]
  },
  {
   "cell_type": "code",
   "execution_count": null,
   "id": "6039c228-821e-4567-be27-8d876149a19c",
   "metadata": {},
   "outputs": [],
   "source": []
  }
 ],
 "metadata": {
  "kernelspec": {
   "display_name": "Python 3",
   "language": "python",
   "name": "python3"
  },
  "language_info": {
   "codemirror_mode": {
    "name": "ipython",
    "version": 3
   },
   "file_extension": ".py",
   "mimetype": "text/x-python",
   "name": "python",
   "nbconvert_exporter": "python",
   "pygments_lexer": "ipython3",
   "version": "3.8.8"
  }
 },
 "nbformat": 4,
 "nbformat_minor": 5
}
