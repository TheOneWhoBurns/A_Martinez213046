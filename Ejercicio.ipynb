{
 "cells": [
  {
   "cell_type": "code",
   "execution_count": null,
   "id": "0db3d576-efaf-45aa-8135-08e3fa05b1a6",
   "metadata": {},
   "outputs": [],
   "source": [
    "import time\n",
    "import pandas as pd\n",
    "import numpy as np\n",
    "import matplotlib.pyplot as plt\n",
    "%matplotlib inline  "
   ]
  },
  {
   "cell_type": "code",
   "execution_count": 43,
   "id": "70415b63-410b-433d-928b-7347611d399a",
   "metadata": {},
   "outputs": [],
   "source": [
    "class Node:\n",
    "    \"\"\"\n",
    "    Implementation of a node\n",
    "    \"\"\"\n",
    "    def __init__(self, val=None):\n",
    "        self.val = val\n",
    "        self.next_node = None\n",
    "    \n",
    "    def set_next_node(self, next_node):\n",
    "        self.next_node = next_node\n",
    "        \n",
    "class Singly_linked_list:\n",
    "    \"\"\"\n",
    "    Implementation of a singly linked list\n",
    "    \"\"\"\n",
    "    def __init__(self, head_node=None):\n",
    "        self.head_node = head_node\n",
    "        \n",
    "    def list_traversed(self):\n",
    "        node = self.head_node\n",
    "        while node:\n",
    "            print(node.val)\n",
    "            node = node.next_node\n",
    "        \n",
    "    def insert (self, val, place_before):\n",
    "    \n",
    "        new_node = Node(val)\n",
    "        \n",
    "        if place_before == self.head_node.val:\n",
    "            \n",
    "            \n",
    "            \n",
    "            new_node.set_next_node(self.head_node)\n",
    "            \n",
    "            self.head_node = new_node\n",
    "            \n",
    "        elif place_before == None:\n",
    "            \n",
    "            if self.head_node == None:\n",
    "                self.head_node = new_node\n",
    "                return\n",
    "                \n",
    "            end = self.head_node\n",
    "            while end.next_node:\n",
    "                end = end.next_node\n",
    "            end.set_next_node(new_node)\n",
    "            \n",
    "        else:\n",
    "            place_A = self.head_node\n",
    "            place_C = self.head_node.next_node\n",
    "            \n",
    "            while place_C.val != place_before:\n",
    "                \n",
    "                place_A = place_A.next_node\n",
    "                place_C = place_A.next_node\n",
    "\n",
    "            place_A.set_next_node(new_node)\n",
    "            new_node.set_next_node(place_C)\n"
   ]
  },
  {
   "cell_type": "code",
   "execution_count": 44,
   "id": "6cfd6aca-4f59-44e5-891b-972c31181634",
   "metadata": {},
   "outputs": [
    {
     "name": "stdout",
     "output_type": "stream",
     "text": [
      "5\n",
      "4\n",
      "3\n",
      "2\n",
      "1\n"
     ]
    }
   ],
   "source": [
    "a1 = Node(1)\n",
    "a2 = Node(2)\n",
    "a3 = Node(3)\n",
    "a4 = Node(4)\n",
    "a5 = Node(5)\n",
    "\n",
    "a5.set_next_node(a4)\n",
    "a4.set_next_node(a3)\n",
    "a3.set_next_node(a2)\n",
    "a2.set_next_node(a1)\n",
    "\n",
    "l_list = Singly_linked_list(a5)\n",
    "\n",
    "l_list.list_traversed()"
   ]
  },
  {
   "cell_type": "code",
   "execution_count": 45,
   "id": "3fc8af1b-3d57-421f-9533-6e9bbeadbb6b",
   "metadata": {},
   "outputs": [
    {
     "name": "stdout",
     "output_type": "stream",
     "text": [
      "6\n",
      "5\n",
      "4\n",
      "3\n",
      "2\n",
      "1\n"
     ]
    }
   ],
   "source": [
    "l_list.insert(6,5)\n",
    "\n",
    "l_list.list_traversed()"
   ]
  },
  {
   "cell_type": "code",
   "execution_count": 46,
   "id": "34e0ed86-90e9-4c6c-81d8-ee637536dbec",
   "metadata": {},
   "outputs": [
    {
     "name": "stdout",
     "output_type": "stream",
     "text": [
      "6\n",
      "5\n",
      "4\n",
      "3\n",
      "2\n",
      "1\n",
      "0\n"
     ]
    }
   ],
   "source": [
    "l_list.insert(0,None)\n",
    "\n",
    "l_list.list_traversed()"
   ]
  },
  {
   "cell_type": "code",
   "execution_count": 47,
   "id": "8e765685-b999-4218-8e00-d77577220b70",
   "metadata": {},
   "outputs": [
    {
     "name": "stdout",
     "output_type": "stream",
     "text": [
      "6\n",
      "5\n",
      "4.5\n",
      "4\n",
      "3\n",
      "2\n",
      "1\n",
      "0\n"
     ]
    }
   ],
   "source": [
    "l_list.insert(4.5,4)\n",
    "\n",
    "l_list.list_traversed()"
   ]
  },
  {
   "cell_type": "code",
   "execution_count": null,
   "id": "e26a321b-86cb-46a3-a4a5-aa4f55b57888",
   "metadata": {},
   "outputs": [],
   "source": []
  },
  {
   "cell_type": "code",
   "execution_count": null,
   "id": "804ea21d-249e-4cb0-89c3-e8271be3c4dc",
   "metadata": {},
   "outputs": [],
   "source": []
  },
  {
   "cell_type": "code",
   "execution_count": null,
   "id": "c6321521-0c61-4ea1-b684-a6c85592590a",
   "metadata": {},
   "outputs": [],
   "source": []
  },
  {
   "cell_type": "code",
   "execution_count": null,
   "id": "d268302e-ff7c-4cd7-93cd-46ff20666f7e",
   "metadata": {},
   "outputs": [],
   "source": []
  }
 ],
 "metadata": {
  "kernelspec": {
   "display_name": "Python 3",
   "language": "python",
   "name": "python3"
  },
  "language_info": {
   "codemirror_mode": {
    "name": "ipython",
    "version": 3
   },
   "file_extension": ".py",
   "mimetype": "text/x-python",
   "name": "python",
   "nbconvert_exporter": "python",
   "pygments_lexer": "ipython3",
   "version": "3.8.8"
  }
 },
 "nbformat": 4,
 "nbformat_minor": 5
}
