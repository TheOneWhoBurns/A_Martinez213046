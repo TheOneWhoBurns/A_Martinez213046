{
 "cells": [
  {
   "cell_type": "code",
   "execution_count": 130,
   "id": "48b8528c-43ee-415f-bdaa-6ea9ab1acf54",
   "metadata": {},
   "outputs": [],
   "source": [
    "class Stack(object):\n",
    "    \"\"\"\n",
    "    Implementation of the array data structure\n",
    "    \"\"\"\n",
    "\n",
    "    def __init__(self):\n",
    "        self.elements = []\n",
    "        \n",
    "    def push(self,item):\n",
    "        self.elements.append(item)\n",
    "        return item\n",
    "    \n",
    "    def pop(self):\n",
    "        return self.elements.pop()\n",
    "    \n",
    "    def top(self):\n",
    "        return self.elements[-1]\n",
    "    \n",
    "    def empty(self):\n",
    "        return len(self.elements) == 0"
   ]
  },
  {
   "cell_type": "code",
   "execution_count": 133,
   "id": "67fea6af-412b-4a93-b1de-c637e90fddec",
   "metadata": {},
   "outputs": [],
   "source": [
    "def check_brackets (s):\n",
    "    pila = Stack()\n",
    "    if \"*\"in s or  \"\\\\\" in s or \"|\" in s:\n",
    "        return False\n",
    "    \n",
    "    for i in range(len(s)-1):\n",
    "        \n",
    "        if i == 1:\n",
    "            pila.push(s[i])\n",
    "            continue\n",
    "        \n",
    "        if ord(s[i])-1 == ord(s[i-1]) or ord(s[i])-2 == ord(s[i-1]):\n",
    "            pila.pop()\n",
    "        else:\n",
    "            pila.push(s[i])\n",
    "        \n",
    "        \n",
    "    if pila.empty():\n",
    "        return True\n",
    "    while pila.empty()==False:\n",
    "        print(pila.top())\n",
    "        pila.pop()\n",
    "    return False\n"
   ]
  },
  {
   "cell_type": "code",
   "execution_count": 134,
   "id": "d1fb8434-f08d-43b4-9191-3a5acbb9131d",
   "metadata": {},
   "outputs": [
    {
     "name": "stdout",
     "output_type": "stream",
     "text": [
      ")\n",
      "}\n",
      "{\n",
      "(\n",
      "(\n",
      "False\n"
     ]
    }
   ],
   "source": [
    "s = '(({[]}[]))'\n",
    "print(check_brackets(s))"
   ]
  },
  {
   "cell_type": "code",
   "execution_count": null,
   "id": "6db7f9d3-dc64-4a6c-b123-a28e6db9ffa3",
   "metadata": {},
   "outputs": [],
   "source": []
  },
  {
   "cell_type": "code",
   "execution_count": null,
   "id": "1007a4d9-9623-4881-a4f9-f2f2a4306d11",
   "metadata": {},
   "outputs": [],
   "source": []
  },
  {
   "cell_type": "code",
   "execution_count": null,
   "id": "845407d0-5e6a-4eef-b567-b371bab768a7",
   "metadata": {},
   "outputs": [],
   "source": []
  }
 ],
 "metadata": {
  "kernelspec": {
   "display_name": "Python 3",
   "language": "python",
   "name": "python3"
  },
  "language_info": {
   "codemirror_mode": {
    "name": "ipython",
    "version": 3
   },
   "file_extension": ".py",
   "mimetype": "text/x-python",
   "name": "python",
   "nbconvert_exporter": "python",
   "pygments_lexer": "ipython3",
   "version": "3.8.8"
  }
 },
 "nbformat": 4,
 "nbformat_minor": 5
}
