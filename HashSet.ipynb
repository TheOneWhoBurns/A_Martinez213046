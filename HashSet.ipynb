{
 "cells": [
  {
   "cell_type": "code",
   "execution_count": 1,
   "id": "77906ae3-d46f-40ef-9abf-15e5d219bcec",
   "metadata": {},
   "outputs": [],
   "source": [
    "class HashSet:\n",
    "    def __init__ (self):\n",
    "        self.capacity = 15\n",
    "        self.size = 0\n",
    "        self.buckets = [None] * self.capacity\n",
    "        \n",
    "        "
   ]
  },
  {
   "cell_type": "code",
   "execution_count": 1,
   "id": "e8ad1a63-ff66-4f7b-9f7a-59756f4bfe53",
   "metadata": {},
   "outputs": [],
   "source": [
    "class Bucket:\n",
    "    def __init__ (self):\n",
    "        self.cubos = []\n",
    "        \n",
    "    def isIn (self,key):\n",
    "        found = False\n",
    "        \n",
    "        for i,k in enumerate(self.cubos):\n",
    "            if key == k:\n",
    "                self.cubos[i] = k\n",
    "                found = True\n",
    "                break\n",
    "        if not found:\n",
    "            self.cubos.append(key)\n",
    "            \n",
    "    def get(self,key):\n",
    "        for k in self.cubos:\n",
    "            if key == k:\n",
    "                return True\n",
    "        return False\n",
    "    \n",
    "    def remove(self,key):\n",
    "        for i,k in enumerate(self.cubos):\n",
    "            if key == k:\n",
    "                del self.cubos[i]"
   ]
  },
  {
   "cell_type": "code",
   "execution_count": null,
   "id": "c480626b-c309-4e20-9772-ccd687e175fd",
   "metadata": {},
   "outputs": [],
   "source": []
  }
 ],
 "metadata": {
  "kernelspec": {
   "display_name": "Python 3",
   "language": "python",
   "name": "python3"
  },
  "language_info": {
   "codemirror_mode": {
    "name": "ipython",
    "version": 3
   },
   "file_extension": ".py",
   "mimetype": "text/x-python",
   "name": "python",
   "nbconvert_exporter": "python",
   "pygments_lexer": "ipython3",
   "version": "3.8.8"
  }
 },
 "nbformat": 4,
 "nbformat_minor": 5
}
