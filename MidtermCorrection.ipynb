{
 "cells": [
  {
   "cell_type": "markdown",
   "id": "cae87a99",
   "metadata": {},
   "source": [
    "## Verdadero o falso con argumentos"
   ]
  },
  {
   "cell_type": "markdown",
   "id": "dd24dc62",
   "metadata": {},
   "source": [
    "### 1.  Una función recursiva resuelve un problema resolviendo una parte mas pequeña del mismo problema "
   ]
  },
  {
   "cell_type": "markdown",
   "id": "b331ec90-cfb5-4216-abd1-cee54538501d",
   "metadata": {},
   "source": [
    "Verdadero, una funcion recursiva es una funcion que se llama a si mismo para resolver un parte mas pequeña del problema\n"
   ]
  },
  {
   "cell_type": "markdown",
   "id": "691524e4",
   "metadata": {},
   "source": [
    "### 2.  Los modelos computacionales nos ayudan a analizar la complejidad de los algoritmos, ya que nos proveen de las especificaciones de la computadora en la cual estos se ejecutarían idealmente"
   ]
  },
  {
   "cell_type": "markdown",
   "id": "f377f81d-ae7f-468b-9481-6cdb68cdfd97",
   "metadata": {},
   "source": [
    "Verdadero, un modelo computacional nos permite analizar como la computadora almacena informacion, se comunica, accesa informacion y computa. estas operaciones primitivas nos permiten asignar un valor de tiempo con $n$ notation a cualquier programa. por ejemplo, el modelo RAM tiene costos de tiempo o pesos para aceder y alamcenar informacion, en diferencia a Turing Machine, que no."
   ]
  },
  {
   "cell_type": "markdown",
   "id": "e5f602d1",
   "metadata": {},
   "source": [
    "### 3.  La búsqueda en un árbol binario de búsqueda es siempre mas rápida que la búsqueda lineal en un arreglo"
   ]
  },
  {
   "cell_type": "markdown",
   "id": "bf288e4a-ef6e-4289-8c7a-e9e8cc37b19d",
   "metadata": {},
   "source": [
    "Falso, la busqueda mas rapida en un arreglo es de $O(1)$ por lo tanto la busqueda en un BST no es <u>siempre</u> mas rapida. la busqueda en un BST es de $O(h)$ donde $h$ es la altura, por lo tanto $O(logn)$ en el mejor caso y $O(n)$ en el peor"
   ]
  },
  {
   "cell_type": "markdown",
   "id": "a1fdae73",
   "metadata": {},
   "source": [
    "### 4. Un algoritmo de complejidad O(nlog(n)) es mas rápido que un algoritmo de complejidad O(n) "
   ]
  },
  {
   "cell_type": "markdown",
   "id": "613fdad2-44e7-44bc-9dd7-2b153ecbb360",
   "metadata": {},
   "source": [
    "Falso, un algoritmo que corre en el peor de los casos en n es mas rapido que uno que corre en el mejor de los casos en nlog n\n"
   ]
  },
  {
   "cell_type": "markdown",
   "id": "e296f8f9",
   "metadata": {},
   "source": [
    "### 5.  Un algoritmo de complejidad Ω(nlog(n)) es mas rápido que un algoritmo de complejidad Ω(n)"
   ]
  },
  {
   "cell_type": "markdown",
   "id": "06559a8f-630c-4e50-bf0d-8721d2f860ca",
   "metadata": {},
   "source": [
    "Falso, un algoritmo de $\\Omega\\,nlogn$ es al menos $ nlog(n)$ que en general es mas que $\\Omega(n)$, pero como no sabemos el upper bound podrian haber casos donde no se cumpla\n"
   ]
  },
  {
   "cell_type": "markdown",
   "id": "d1446925",
   "metadata": {},
   "source": [
    "## Problemas de programación\n",
    "#### Todo el código debe ser en Python. Si se requiere escribir funciones que hagan búsqueda o ordenamiento (search, sort), programe las funciones usando los conceptos aprendidos en clase. No use las funciones que Python provee para hacer esto. "
   ]
  },
  {
   "cell_type": "markdown",
   "id": "4fb17ce9",
   "metadata": {},
   "source": [
    "### 6. Dada una lista enlazada que represente un número. Por ejemplo, 123 es representado por la lista 1->2->3 si la lista es simple o con doble enlace si es doble. Escriba un programa que haga lo siguiente:\n",
    "\n",
    "1. Reciba dos números A y B como input\n",
    "\n",
    "2. Transforme estos números a listas enlazadas como la definida arriba\n",
    "\n",
    "3. Implemente la resta de los números descritos por esas listas enlazadas. El resultado (A-B) debe ser almacenado en una lista enlazada.\n",
    "\n",
    "4. Imprima el resultado concatenando el valor de los nodos de la lista enlazada resultante\n",
    "\n",
    "Nota: asuma que el número A es mayor que B"
   ]
  },
  {
   "cell_type": "code",
   "execution_count": 3,
   "id": "29079a1a-03dc-4509-987d-981a38b74e72",
   "metadata": {},
   "outputs": [],
   "source": [
    "class Node:\n",
    "    \"\"\"\n",
    "    Implementation of a node\n",
    "    \"\"\"\n",
    "    def __init__(self, val=None):\n",
    "        self.val = val\n",
    "        self.next_node = None\n",
    "        self.prev_node = None\n",
    "        \n",
    "class Doubly_linked_list:\n",
    "    \"\"\"\n",
    "    Implementation of a singly linked list\n",
    "    \"\"\"\n",
    "    def __init__(self, head_node=None):\n",
    "        self.head_node = head_node \n",
    "        \n",
    "        \n",
    "        \n",
    "def str_to_ll(S):\n",
    "    \n",
    "    head = Node(S[0])\n",
    "    curr = head\n",
    "    \n",
    "    for i in range(len(S)-1):\n",
    "        \n",
    "        curr.set_next_node(S[i+1])\n",
    "        curr = curr.next_node\n",
    "    \n",
    "    return Doubly_linked_list(head)\n",
    "        \n",
    "    \n",
    "def end_of_list(S):\n",
    "    \n",
    "    node = S\n",
    "    if node.next_node:\n",
    "        node = node.next_node\n",
    "    return node\n",
    "    \n",
    "def list_sum(A,B):\n",
    "    \n",
    "    \n",
    "    A_list = str_to_ll(str(A))\n",
    "    B_list = str_to_ll(str(B))\n",
    "        \n",
    "    A_end = end_of_list(A_list)\n",
    "    B_end = end_of_list(B_list) \n",
    "    \n",
    "    C = Doubly_linked_list(None)\n",
    "    rem = 0\n",
    "    \n",
    "    while (A_end.prev_node is not None and B_end.prev_node is not None):\n",
    "        \n",
    "        if (A_end > B_end):\n",
    "            C.set_prev_node(Node(A_end.val - B_end.val - rem))\n",
    "            rem = 0\n",
    "        if (A_end < B_end):\n",
    "            rest = 10 - (A_end.val - B_end.val)\n",
    "            rem = 1\n",
    "            C.set_prev_node(Node(rest - rem))\n",
    "\n",
    "        \n",
    "        A_end = A_end.prev_node\n",
    "        B_end = B_end.prev_node\n",
    "        C = C.prev_node\n",
    "    \n",
    "    return C\n",
    "def print_l(L):\n",
    "    temp = L.head\n",
    "    while temp:\n",
    "        print temp.val\n",
    "        temp = temp.next_node"
   ]
  },
  {
   "cell_type": "markdown",
   "id": "ad6c65a4",
   "metadata": {},
   "source": [
    "### 7.  Cuando introducimos el concepto de pilas (stacks), usamos como ejemplos una pila de platos. Siguiendo con el ejemplo, una pila de platos con muchos platos se puede caer. Para evitar esto, se puede empezar una nueva pila.\n",
    "\n",
    "Implemente una clase de Python que defina un arreglo de stacks. La idea de tener este arreglo es que cuando un stack alcance su capacidad máxima, un nuevo stack empieza en el mismo arreglo. Las operación pop() debe retornar el mismo valor que lo haría si estuviéramos usando un stack simple. \n",
    "\n",
    "Nota: Debe definir los elementos de la clase: el arreglo de stacks, la capacidad del arreglo (# de stacks en el arreglo), la capacidad de cada stack (# de elementos que puede tener el stack). \n",
    "\n",
    "Hint: Cuando ingrese elementos (push), los elementos van al stack que este activo (el stack que recibe y retira elementos). Debe manejar las condiciones para cambiar el stack activo (cuando un push() deja al stack sin elementos, o cuando un pop() llena el stack)."
   ]
  },
  {
   "cell_type": "code",
   "execution_count": 1,
   "id": "8a7c0466-12dd-4863-8698-96bb0ffd787b",
   "metadata": {},
   "outputs": [],
   "source": [
    "class limitStack:\n",
    "    \n",
    "    def __init__ (self):\n",
    "        self.list = []\n",
    "        self.stack_size = 10\n",
    "        \n",
    "    def newStack(self):\n",
    "        return Stack(self.stack_size)\n",
    "    \n",
    "    def add(self,item):\n",
    "        if self.list[-1].full() or len(self.list) == 0:\n",
    "            S = newStack()\n",
    "            self.list.append(S)\n",
    "            self.list[-1].push(item)\n",
    "        else:\n",
    "            self.list[-1].push(item)\n",
    "            \n",
    "    def pop(self):\n",
    "        if len(self.list) == 0:\n",
    "            return None\n",
    "        elif self.list[-1].empty():\n",
    "            \n",
    "            del self.list[-1]\n",
    "            if len(self.list) == 0:\n",
    "                return None\n",
    "            else:\n",
    "                self.list[-1].pop()\n",
    "                \n",
    "        else:\n",
    "                self.list[-1].pop()\n",
    "    \n",
    "    def top(self):\n",
    "        if len(self.list) == 0:\n",
    "            return None\n",
    "        elif self.list[-1].empty():\n",
    "            del self.list[-1]\n",
    "            if len(self.list) == 0:\n",
    "                return None\n",
    "            else:\n",
    "                self.list[-1].top()\n",
    "                \n",
    "        else:\n",
    "                self.list[-1].top()"
   ]
  },
  {
   "cell_type": "markdown",
   "id": "b3d44802",
   "metadata": {},
   "source": [
    "### 8. Dada una cola con prioridad (PriorityQueue) que contiene elementos (k,v) donde k define la prioridad y v define el valor. Recuerde que los valores con menor k tienen mayor prioridad, es decir si tenemos dos elementos (k1, v1) y (k2, v2), v2 tiene preferencia para salir de la cola antes que v1 si k2< k1. Definimos algunas de las operaciones como siguen:\n",
    "\n",
    "```\n",
    "import ctypes\n",
    "\n",
    "class PriorityQueue(object):\n",
    "\n",
    "\"\"\"\n",
    "\n",
    "Implementation of the queue data structure\n",
    "\n",
    "\"\"\"\n",
    "\n",
    "def __init__(self, n):\n",
    "\n",
    "self.item_count = 0\n",
    "\n",
    "self.n = n\n",
    "\n",
    "self.queue = self._create_queue(self.n)\n",
    "\n",
    "def _create_queue(self, n):\n",
    "\n",
    "\"\"\"\n",
    "\n",
    "Creates a new stack of capacity n\n",
    "\n",
    "\"\"\"\n",
    "\n",
    "return (n * ctypes.py_object)()\n",
    "\n",
    "def dequeue(self):\n",
    "\n",
    "\"\"\"\n",
    "\n",
    "Remove an element from the queue\n",
    "\n",
    "\"\"\"\n",
    "\n",
    "c = self.queue[0]\n",
    "\n",
    "for i in range(1,self.item_count):\n",
    "\n",
    "self.queue[i-1] = self.queue[i]\n",
    "\n",
    "self.queue[self.item_count - 1] = ctypes.py_object\n",
    "\n",
    "self.item_count -= 1\n",
    "\n",
    "return c\n",
    "```\n",
    "\n",
    "### Implemente los métodos enqueue y decreaseKey, tal que ambos métodos tengan complejidad O(log(n)), sin utilizar funciones nativas de Python. Por ejemplo, si necesita hacer una búsqueda, no use la función de Python que implementa esto, programe la función usando for o while loops."
   ]
  },
  {
   "cell_type": "code",
   "execution_count": null,
   "id": "3d659ac3",
   "metadata": {},
   "outputs": [],
   "source": [
    "def enqueue(self, item):\n",
    "    \"\"\"\n",
    "    Add new item to the queue\n",
    "    \"\"\"\n",
    "    if self.item_count == self.n:\n",
    "        raise ValueError(\"no more capacity\")\n",
    "    int i = n - 1\n",
    "    while (i >= 0 and item < queue[i]):\n",
    "        queue[i + 1] = queue[i]\n",
    "        i = i-1\n",
    "    \n",
    "    queue[i + 1] = item\n",
    "    n = n+1\n",
    "\n",
    "def decreaseKey(self,v,k):\n",
    "    \"\"\"\n",
    "    Change key value of v\n",
    "    \"\"\"\n",
    "    ind = 0\n",
    "    while ind < len(self.queue):\n",
    "        if self.queue[ind][1] == v:\n",
    "            break\n",
    "        else:\n",
    "            ind += 1\n",
    "    if ind == len(self.queue):\n",
    "        raise ValueError(\"Value not found\")\n",
    "    self.queue[ind][0] = k"
   ]
  },
  {
   "cell_type": "markdown",
   "id": "3591936d",
   "metadata": {},
   "source": [
    "### 9. Tenemos un árbol binario (binary tree), definimos a un nodo X como rojo, si todos los nodos en el recorrido de la raiz al nodo X tienen un valor que es menor o igual a X. Por ejemplo, en el ejemplo de abajo:\n",
    "\n",
    "![](./binary_tree.png)\n",
    "\n",
    "El recorrido hacia el nodo 3 de la izquierda es 3 → 1 → 3, como todos los valores en este recorrido son menores o iguales a 3 (3=3 y 1<3), el nodo es rojo. Similarmente, en el sub-árbol de la derecha, los nodos 4 y 5 también son rojos. Escriba una función en Python que cuente el numero total de nodos rojos. El input de esta función es la raíz del árbol binario.\n",
    "\n",
    " "
   ]
  },
  {
   "cell_type": "code",
   "execution_count": null,
   "id": "e4eda5aa-e2e5-4f32-a3a6-3c7f9feaf2f9",
   "metadata": {},
   "outputs": [],
   "source": [
    "global reds = 0\n",
    "global brn = 0\n",
    "def reds(root):\n",
    "\n",
    "    if root.val >= brn:\n",
    "        brn = root.val\n",
    "        reds = reds+1\n",
    "    \n",
    "    \n",
    "    if root.left is None and root.right is None:\n",
    "        if root.val < brn:\n",
    "            reds = reds-1\n",
    "        return\n",
    "    \n",
    "    out = reds(root.left)\n",
    "    brn = 0\n",
    "    out += reds(root.right)\n",
    "\n",
    "    return"
   ]
  },
  {
   "cell_type": "code",
   "execution_count": null,
   "id": "26d0e644-6baf-42db-8e12-a8d8bb1bfb7f",
   "metadata": {},
   "outputs": [],
   "source": []
  }
 ],
 "metadata": {
  "kernelspec": {
   "display_name": "Python 3",
   "language": "python",
   "name": "python3"
  },
  "language_info": {
   "codemirror_mode": {
    "name": "ipython",
    "version": 3
   },
   "file_extension": ".py",
   "mimetype": "text/x-python",
   "name": "python",
   "nbconvert_exporter": "python",
   "pygments_lexer": "ipython3",
   "version": "3.8.8"
  }
 },
 "nbformat": 4,
 "nbformat_minor": 5
}
